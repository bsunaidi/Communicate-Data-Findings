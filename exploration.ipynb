{
 "cells": [
  {
   "cell_type": "markdown",
   "metadata": {},
   "source": [
    "# Project: Bay Wheels (Ford GoBike) Data Exploration \n",
    "\n",
    "**By Bushra Alsunaidi**\n",
    "\n",
    "\n",
    "## Table of Contents\n",
    "- [Introduction](#intro)\n",
    "- [Preliminary Wrangling](#wrangling)\n",
    "- [Univariate Exploration](#uni)\n",
    "- [Bivariate Exploration](#bi)\n",
    "- [Multivariate Exploration](#multi)\n",
    "\n",
    "<a id='intro'></a>\n",
    "## Introduction\n",
    "\n",
    "This project aims to explore Bay Wheels dataset, previousely named Ford GoBike, in July 2020. This dataset contains information about individual rides made in a bike-sharing system covering the greater San Francisco Bay area.\n",
    "\n",
    "<a id='wrangling'></a>\n",
    "## Preliminary Wrangling\n",
    "\n",
    "In this process, the data will be gathered, assessed, and cleaned to analyze and visualize the data efficiently and neatly.\n",
    "\n",
    "To get started, let's import our libraries."
   ]
  },
  {
   "cell_type": "code",
   "execution_count": 1,
   "metadata": {},
   "outputs": [],
   "source": [
    "# import all packages and set plots to be embedded inline\n",
    "import numpy as np\n",
    "import pandas as pd\n",
    "import matplotlib.pyplot as plt\n",
    "import seaborn as sb\n",
    "\n",
    "%matplotlib inline"
   ]
  },
  {
   "cell_type": "markdown",
   "metadata": {},
   "source": [
    "#### Data Gathering"
   ]
  },
  {
   "cell_type": "code",
   "execution_count": 2,
   "metadata": {},
   "outputs": [],
   "source": [
    "# Load the dataset into panda dataframe\n",
    "df = pd.read_csv('202007-baywheels-tripdata.csv')"
   ]
  },
  {
   "cell_type": "markdown",
   "metadata": {},
   "source": [
    "#### Data Assessment"
   ]
  },
  {
   "cell_type": "code",
   "execution_count": 3,
   "metadata": {},
   "outputs": [
    {
     "data": {
      "text/html": [
       "<div>\n",
       "<style scoped>\n",
       "    .dataframe tbody tr th:only-of-type {\n",
       "        vertical-align: middle;\n",
       "    }\n",
       "\n",
       "    .dataframe tbody tr th {\n",
       "        vertical-align: top;\n",
       "    }\n",
       "\n",
       "    .dataframe thead th {\n",
       "        text-align: right;\n",
       "    }\n",
       "</style>\n",
       "<table border=\"1\" class=\"dataframe\">\n",
       "  <thead>\n",
       "    <tr style=\"text-align: right;\">\n",
       "      <th></th>\n",
       "      <th>ride_id</th>\n",
       "      <th>rideable_type</th>\n",
       "      <th>started_at</th>\n",
       "      <th>ended_at</th>\n",
       "      <th>start_station_name</th>\n",
       "      <th>start_station_id</th>\n",
       "      <th>end_station_name</th>\n",
       "      <th>end_station_id</th>\n",
       "      <th>start_lat</th>\n",
       "      <th>start_lng</th>\n",
       "      <th>end_lat</th>\n",
       "      <th>end_lng</th>\n",
       "      <th>member_casual</th>\n",
       "    </tr>\n",
       "  </thead>\n",
       "  <tbody>\n",
       "    <tr>\n",
       "      <th>87930</th>\n",
       "      <td>BFAAD1824E423ABB</td>\n",
       "      <td>electric_bike</td>\n",
       "      <td>2020-07-11 10:28:16</td>\n",
       "      <td>2020-07-11 10:36:59</td>\n",
       "      <td>Bryant St at 6th St</td>\n",
       "      <td>63.0</td>\n",
       "      <td>Hyde St at Post St</td>\n",
       "      <td>369.0</td>\n",
       "      <td>37.775893</td>\n",
       "      <td>-122.402621</td>\n",
       "      <td>37.787352</td>\n",
       "      <td>-122.416385</td>\n",
       "      <td>member</td>\n",
       "    </tr>\n",
       "    <tr>\n",
       "      <th>98802</th>\n",
       "      <td>A957E1AAAAB49818</td>\n",
       "      <td>electric_bike</td>\n",
       "      <td>2020-07-12 12:29:07</td>\n",
       "      <td>2020-07-12 13:03:47</td>\n",
       "      <td>NaN</td>\n",
       "      <td>NaN</td>\n",
       "      <td>Grove St at Masonic Ave</td>\n",
       "      <td>375.0</td>\n",
       "      <td>37.730000</td>\n",
       "      <td>-122.370000</td>\n",
       "      <td>37.774786</td>\n",
       "      <td>-122.446712</td>\n",
       "      <td>member</td>\n",
       "    </tr>\n",
       "    <tr>\n",
       "      <th>126018</th>\n",
       "      <td>59806565F8C69B51</td>\n",
       "      <td>docked_bike</td>\n",
       "      <td>2020-07-12 15:21:13</td>\n",
       "      <td>2020-07-12 16:25:35</td>\n",
       "      <td>Battery St at Filbert St</td>\n",
       "      <td>500.0</td>\n",
       "      <td>Battery St at Filbert St</td>\n",
       "      <td>500.0</td>\n",
       "      <td>37.802197</td>\n",
       "      <td>-122.401771</td>\n",
       "      <td>37.802198</td>\n",
       "      <td>-122.401772</td>\n",
       "      <td>casual</td>\n",
       "    </tr>\n",
       "    <tr>\n",
       "      <th>126470</th>\n",
       "      <td>9DDC2BA84A8F95A8</td>\n",
       "      <td>electric_bike</td>\n",
       "      <td>2020-07-30 12:17:36</td>\n",
       "      <td>2020-07-30 12:23:37</td>\n",
       "      <td>McKinnon Ave at 3rd St</td>\n",
       "      <td>436.0</td>\n",
       "      <td>23rd St at Tennessee St</td>\n",
       "      <td>355.0</td>\n",
       "      <td>37.736253</td>\n",
       "      <td>-122.389832</td>\n",
       "      <td>37.755398</td>\n",
       "      <td>-122.388669</td>\n",
       "      <td>member</td>\n",
       "    </tr>\n",
       "    <tr>\n",
       "      <th>30271</th>\n",
       "      <td>1D14839719136111</td>\n",
       "      <td>electric_bike</td>\n",
       "      <td>2020-07-14 20:03:37</td>\n",
       "      <td>2020-07-14 20:03:49</td>\n",
       "      <td>NaN</td>\n",
       "      <td>NaN</td>\n",
       "      <td>NaN</td>\n",
       "      <td>NaN</td>\n",
       "      <td>37.750000</td>\n",
       "      <td>-122.420000</td>\n",
       "      <td>37.750000</td>\n",
       "      <td>-122.420000</td>\n",
       "      <td>casual</td>\n",
       "    </tr>\n",
       "  </tbody>\n",
       "</table>\n",
       "</div>"
      ],
      "text/plain": [
       "                 ride_id  rideable_type           started_at  \\\n",
       "87930   BFAAD1824E423ABB  electric_bike  2020-07-11 10:28:16   \n",
       "98802   A957E1AAAAB49818  electric_bike  2020-07-12 12:29:07   \n",
       "126018  59806565F8C69B51    docked_bike  2020-07-12 15:21:13   \n",
       "126470  9DDC2BA84A8F95A8  electric_bike  2020-07-30 12:17:36   \n",
       "30271   1D14839719136111  electric_bike  2020-07-14 20:03:37   \n",
       "\n",
       "                   ended_at        start_station_name  start_station_id  \\\n",
       "87930   2020-07-11 10:36:59       Bryant St at 6th St              63.0   \n",
       "98802   2020-07-12 13:03:47                       NaN               NaN   \n",
       "126018  2020-07-12 16:25:35  Battery St at Filbert St             500.0   \n",
       "126470  2020-07-30 12:23:37    McKinnon Ave at 3rd St             436.0   \n",
       "30271   2020-07-14 20:03:49                       NaN               NaN   \n",
       "\n",
       "                end_station_name  end_station_id  start_lat   start_lng  \\\n",
       "87930         Hyde St at Post St           369.0  37.775893 -122.402621   \n",
       "98802    Grove St at Masonic Ave           375.0  37.730000 -122.370000   \n",
       "126018  Battery St at Filbert St           500.0  37.802197 -122.401771   \n",
       "126470   23rd St at Tennessee St           355.0  37.736253 -122.389832   \n",
       "30271                        NaN             NaN  37.750000 -122.420000   \n",
       "\n",
       "          end_lat     end_lng member_casual  \n",
       "87930   37.787352 -122.416385        member  \n",
       "98802   37.774786 -122.446712        member  \n",
       "126018  37.802198 -122.401772        casual  \n",
       "126470  37.755398 -122.388669        member  \n",
       "30271   37.750000 -122.420000        casual  "
      ]
     },
     "execution_count": 3,
     "metadata": {},
     "output_type": "execute_result"
    }
   ],
   "source": [
    "# visualize the dataframe\n",
    "df.sample(5)"
   ]
  },
  {
   "cell_type": "code",
   "execution_count": 4,
   "metadata": {},
   "outputs": [
    {
     "name": "stdout",
     "output_type": "stream",
     "text": [
      "<class 'pandas.core.frame.DataFrame'>\n",
      "RangeIndex: 154967 entries, 0 to 154966\n",
      "Data columns (total 13 columns):\n",
      " #   Column              Non-Null Count   Dtype  \n",
      "---  ------              --------------   -----  \n",
      " 0   ride_id             154967 non-null  object \n",
      " 1   rideable_type       154967 non-null  object \n",
      " 2   started_at          154967 non-null  object \n",
      " 3   ended_at            154967 non-null  object \n",
      " 4   start_station_name  102589 non-null  object \n",
      " 5   start_station_id    102589 non-null  float64\n",
      " 6   end_station_name    100407 non-null  object \n",
      " 7   end_station_id      100407 non-null  float64\n",
      " 8   start_lat           154967 non-null  float64\n",
      " 9   start_lng           154967 non-null  float64\n",
      " 10  end_lat             154771 non-null  float64\n",
      " 11  end_lng             154771 non-null  float64\n",
      " 12  member_casual       154967 non-null  object \n",
      "dtypes: float64(6), object(7)\n",
      "memory usage: 15.4+ MB\n"
     ]
    }
   ],
   "source": [
    "# A summary of the dataframe\n",
    "df.info()"
   ]
  },
  {
   "cell_type": "markdown",
   "metadata": {},
   "source": [
    "The information summary about the dataset shows that the datatype of some variables must be fixed, which will be modified in the next step. It indicates that some variables have missing/null values."
   ]
  },
  {
   "cell_type": "code",
   "execution_count": 5,
   "metadata": {},
   "outputs": [
    {
     "data": {
      "text/plain": [
       "ride_id                   0\n",
       "rideable_type             0\n",
       "started_at                0\n",
       "ended_at                  0\n",
       "start_station_name    52378\n",
       "start_station_id      52378\n",
       "end_station_name      54560\n",
       "end_station_id        54560\n",
       "start_lat                 0\n",
       "start_lng                 0\n",
       "end_lat                 196\n",
       "end_lng                 196\n",
       "member_casual             0\n",
       "dtype: int64"
      ]
     },
     "execution_count": 5,
     "metadata": {},
     "output_type": "execute_result"
    }
   ],
   "source": [
    "# A count of the null values in the dataset\n",
    "df.isnull().sum()"
   ]
  },
  {
   "cell_type": "code",
   "execution_count": 6,
   "metadata": {},
   "outputs": [
    {
     "data": {
      "text/plain": [
       "0"
      ]
     },
     "execution_count": 6,
     "metadata": {},
     "output_type": "execute_result"
    }
   ],
   "source": [
    "# A count of the duplicates in the dataset\n",
    "sum(df.duplicated())"
   ]
  },
  {
   "cell_type": "code",
   "execution_count": 7,
   "metadata": {},
   "outputs": [
    {
     "data": {
      "text/plain": [
       "ride_id               154967\n",
       "rideable_type              2\n",
       "started_at            147561\n",
       "ended_at              147331\n",
       "start_station_name       426\n",
       "start_station_id         425\n",
       "end_station_name         431\n",
       "end_station_id           430\n",
       "start_lat              44231\n",
       "start_lng              45882\n",
       "end_lat                44099\n",
       "end_lng                45775\n",
       "member_casual              2\n",
       "dtype: int64"
      ]
     },
     "execution_count": 7,
     "metadata": {},
     "output_type": "execute_result"
    }
   ],
   "source": [
    "# The number of the unique value in each column\n",
    "df.nunique()"
   ]
  },
  {
   "cell_type": "code",
   "execution_count": 8,
   "metadata": {},
   "outputs": [
    {
     "data": {
      "text/html": [
       "<div>\n",
       "<style scoped>\n",
       "    .dataframe tbody tr th:only-of-type {\n",
       "        vertical-align: middle;\n",
       "    }\n",
       "\n",
       "    .dataframe tbody tr th {\n",
       "        vertical-align: top;\n",
       "    }\n",
       "\n",
       "    .dataframe thead th {\n",
       "        text-align: right;\n",
       "    }\n",
       "</style>\n",
       "<table border=\"1\" class=\"dataframe\">\n",
       "  <thead>\n",
       "    <tr style=\"text-align: right;\">\n",
       "      <th></th>\n",
       "      <th>start_station_id</th>\n",
       "      <th>end_station_id</th>\n",
       "      <th>start_lat</th>\n",
       "      <th>start_lng</th>\n",
       "      <th>end_lat</th>\n",
       "      <th>end_lng</th>\n",
       "    </tr>\n",
       "  </thead>\n",
       "  <tbody>\n",
       "    <tr>\n",
       "      <th>count</th>\n",
       "      <td>102589.00000</td>\n",
       "      <td>100407.000000</td>\n",
       "      <td>154967.000000</td>\n",
       "      <td>154967.000000</td>\n",
       "      <td>154771.000000</td>\n",
       "      <td>154771.000000</td>\n",
       "    </tr>\n",
       "    <tr>\n",
       "      <th>mean</th>\n",
       "      <td>224.38394</td>\n",
       "      <td>220.963837</td>\n",
       "      <td>37.732393</td>\n",
       "      <td>-122.357516</td>\n",
       "      <td>37.732502</td>\n",
       "      <td>-122.353342</td>\n",
       "    </tr>\n",
       "    <tr>\n",
       "      <th>std</th>\n",
       "      <td>172.17782</td>\n",
       "      <td>172.435490</td>\n",
       "      <td>0.138354</td>\n",
       "      <td>0.167669</td>\n",
       "      <td>0.138407</td>\n",
       "      <td>0.599176</td>\n",
       "    </tr>\n",
       "    <tr>\n",
       "      <th>min</th>\n",
       "      <td>3.00000</td>\n",
       "      <td>3.000000</td>\n",
       "      <td>37.240000</td>\n",
       "      <td>-122.510000</td>\n",
       "      <td>37.230000</td>\n",
       "      <td>-122.510000</td>\n",
       "    </tr>\n",
       "    <tr>\n",
       "      <th>25%</th>\n",
       "      <td>72.00000</td>\n",
       "      <td>72.000000</td>\n",
       "      <td>37.760000</td>\n",
       "      <td>-122.433274</td>\n",
       "      <td>37.760000</td>\n",
       "      <td>-122.432532</td>\n",
       "    </tr>\n",
       "    <tr>\n",
       "      <th>50%</th>\n",
       "      <td>153.00000</td>\n",
       "      <td>145.000000</td>\n",
       "      <td>37.773981</td>\n",
       "      <td>-122.413233</td>\n",
       "      <td>37.773953</td>\n",
       "      <td>-122.412408</td>\n",
       "    </tr>\n",
       "    <tr>\n",
       "      <th>75%</th>\n",
       "      <td>385.00000</td>\n",
       "      <td>384.000000</td>\n",
       "      <td>37.788299</td>\n",
       "      <td>-122.391967</td>\n",
       "      <td>37.788472</td>\n",
       "      <td>-122.391984</td>\n",
       "    </tr>\n",
       "    <tr>\n",
       "      <th>max</th>\n",
       "      <td>534.00000</td>\n",
       "      <td>534.000000</td>\n",
       "      <td>37.880222</td>\n",
       "      <td>-121.770000</td>\n",
       "      <td>37.880222</td>\n",
       "      <td>-42.344893</td>\n",
       "    </tr>\n",
       "  </tbody>\n",
       "</table>\n",
       "</div>"
      ],
      "text/plain": [
       "       start_station_id  end_station_id      start_lat      start_lng  \\\n",
       "count      102589.00000   100407.000000  154967.000000  154967.000000   \n",
       "mean          224.38394      220.963837      37.732393    -122.357516   \n",
       "std           172.17782      172.435490       0.138354       0.167669   \n",
       "min             3.00000        3.000000      37.240000    -122.510000   \n",
       "25%            72.00000       72.000000      37.760000    -122.433274   \n",
       "50%           153.00000      145.000000      37.773981    -122.413233   \n",
       "75%           385.00000      384.000000      37.788299    -122.391967   \n",
       "max           534.00000      534.000000      37.880222    -121.770000   \n",
       "\n",
       "             end_lat        end_lng  \n",
       "count  154771.000000  154771.000000  \n",
       "mean       37.732502    -122.353342  \n",
       "std         0.138407       0.599176  \n",
       "min        37.230000    -122.510000  \n",
       "25%        37.760000    -122.432532  \n",
       "50%        37.773953    -122.412408  \n",
       "75%        37.788472    -122.391984  \n",
       "max        37.880222     -42.344893  "
      ]
     },
     "execution_count": 8,
     "metadata": {},
     "output_type": "execute_result"
    }
   ],
   "source": [
    "# check the descriptive statistics\n",
    "df.describe()"
   ]
  },
  {
   "cell_type": "markdown",
   "metadata": {},
   "source": [
    "#### Data Cleaning"
   ]
  },
  {
   "cell_type": "code",
   "execution_count": 9,
   "metadata": {},
   "outputs": [],
   "source": [
    "# Create a copy of the dataset\n",
    "dfc = df.copy()"
   ]
  },
  {
   "cell_type": "code",
   "execution_count": 10,
   "metadata": {},
   "outputs": [],
   "source": [
    "# Fix the datatype\n",
    "dfc.started_at = pd.to_datetime(dfc.started_at)\n",
    "dfc.ended_at = pd.to_datetime(dfc.ended_at)\n",
    "dfc.start_station_id = dfc.start_station_id.astype('str')\n",
    "dfc.end_station_id = dfc.end_station_id.astype('str')\n",
    "dfc.rideable_type = dfc.rideable_type.astype('category')\n",
    "dfc.member_casual = dfc.member_casual.astype('category')"
   ]
  },
  {
   "cell_type": "code",
   "execution_count": 11,
   "metadata": {},
   "outputs": [],
   "source": [
    "# Add a duration variable for a ride in sec\n",
    "dfc['duration_sec'] = (dfc.ended_at - dfc.started_at).dt.seconds\n",
    "dfc['started_day']= dfc.started_at.dt.strftime('%a')"
   ]
  },
  {
   "cell_type": "code",
   "execution_count": 12,
   "metadata": {},
   "outputs": [],
   "source": [
    "# Fix the started_day to ordered category datatype\n",
    "weekdays = ['Mon','Tue','Wed','Thu','Fri', 'Sat', 'Sun']\n",
    "dfc.started_day = pd.Categorical(dfc.started_day, categories=weekdays, ordered=True)"
   ]
  },
  {
   "cell_type": "code",
   "execution_count": 13,
   "metadata": {},
   "outputs": [
    {
     "data": {
      "text/plain": [
       "ride_id                       object\n",
       "rideable_type               category\n",
       "started_at            datetime64[ns]\n",
       "ended_at              datetime64[ns]\n",
       "start_station_name            object\n",
       "start_station_id              object\n",
       "end_station_name              object\n",
       "end_station_id                object\n",
       "start_lat                    float64\n",
       "start_lng                    float64\n",
       "end_lat                      float64\n",
       "end_lng                      float64\n",
       "member_casual               category\n",
       "duration_sec                   int64\n",
       "started_day                 category\n",
       "dtype: object"
      ]
     },
     "execution_count": 13,
     "metadata": {},
     "output_type": "execute_result"
    }
   ],
   "source": [
    "# Test\n",
    "dfc.dtypes"
   ]
  },
  {
   "cell_type": "code",
   "execution_count": 14,
   "metadata": {},
   "outputs": [],
   "source": [
    "# Delete the rows with null values\n",
    "dfc = dfc[dfc.end_station_id.notnull()==True]\n",
    "dfc = dfc[dfc.end_station_name.notnull()==True]\n",
    "dfc = dfc[dfc.start_station_name.notnull()==True]"
   ]
  },
  {
   "cell_type": "code",
   "execution_count": 15,
   "metadata": {},
   "outputs": [
    {
     "name": "stdout",
     "output_type": "stream",
     "text": [
      "<class 'pandas.core.frame.DataFrame'>\n",
      "Int64Index: 83530 entries, 1 to 154966\n",
      "Data columns (total 15 columns):\n",
      " #   Column              Non-Null Count  Dtype         \n",
      "---  ------              --------------  -----         \n",
      " 0   ride_id             83530 non-null  object        \n",
      " 1   rideable_type       83530 non-null  category      \n",
      " 2   started_at          83530 non-null  datetime64[ns]\n",
      " 3   ended_at            83530 non-null  datetime64[ns]\n",
      " 4   start_station_name  83530 non-null  object        \n",
      " 5   start_station_id    83530 non-null  object        \n",
      " 6   end_station_name    83530 non-null  object        \n",
      " 7   end_station_id      83530 non-null  object        \n",
      " 8   start_lat           83530 non-null  float64       \n",
      " 9   start_lng           83530 non-null  float64       \n",
      " 10  end_lat             83530 non-null  float64       \n",
      " 11  end_lng             83530 non-null  float64       \n",
      " 12  member_casual       83530 non-null  category      \n",
      " 13  duration_sec        83530 non-null  int64         \n",
      " 14  started_day         83530 non-null  category      \n",
      "dtypes: category(3), datetime64[ns](2), float64(4), int64(1), object(5)\n",
      "memory usage: 8.5+ MB\n"
     ]
    }
   ],
   "source": [
    "# Test\n",
    "dfc.info()"
   ]
  },
  {
   "cell_type": "code",
   "execution_count": 16,
   "metadata": {},
   "outputs": [
    {
     "data": {
      "text/html": [
       "<div>\n",
       "<style scoped>\n",
       "    .dataframe tbody tr th:only-of-type {\n",
       "        vertical-align: middle;\n",
       "    }\n",
       "\n",
       "    .dataframe tbody tr th {\n",
       "        vertical-align: top;\n",
       "    }\n",
       "\n",
       "    .dataframe thead th {\n",
       "        text-align: right;\n",
       "    }\n",
       "</style>\n",
       "<table border=\"1\" class=\"dataframe\">\n",
       "  <thead>\n",
       "    <tr style=\"text-align: right;\">\n",
       "      <th></th>\n",
       "      <th>ride_id</th>\n",
       "      <th>rideable_type</th>\n",
       "      <th>started_at</th>\n",
       "      <th>ended_at</th>\n",
       "      <th>start_station_name</th>\n",
       "      <th>start_station_id</th>\n",
       "      <th>end_station_name</th>\n",
       "      <th>end_station_id</th>\n",
       "      <th>start_lat</th>\n",
       "      <th>start_lng</th>\n",
       "      <th>end_lat</th>\n",
       "      <th>end_lng</th>\n",
       "      <th>member_casual</th>\n",
       "      <th>duration_sec</th>\n",
       "      <th>started_day</th>\n",
       "    </tr>\n",
       "  </thead>\n",
       "  <tbody>\n",
       "    <tr>\n",
       "      <th>19965</th>\n",
       "      <td>C92CD8EA45973784</td>\n",
       "      <td>electric_bike</td>\n",
       "      <td>2020-07-03 19:53:59</td>\n",
       "      <td>2020-07-03 20:13:18</td>\n",
       "      <td>Howard St at 8th St</td>\n",
       "      <td>61.0</td>\n",
       "      <td>7th Ave at Irving St</td>\n",
       "      <td>457.0</td>\n",
       "      <td>37.776608</td>\n",
       "      <td>-122.411233</td>\n",
       "      <td>37.763571</td>\n",
       "      <td>-122.464109</td>\n",
       "      <td>casual</td>\n",
       "      <td>1159</td>\n",
       "      <td>Fri</td>\n",
       "    </tr>\n",
       "    <tr>\n",
       "      <th>87104</th>\n",
       "      <td>16A1C10DC0E223F7</td>\n",
       "      <td>electric_bike</td>\n",
       "      <td>2020-07-10 18:54:54</td>\n",
       "      <td>2020-07-10 19:02:37</td>\n",
       "      <td>Market St at Dolores St</td>\n",
       "      <td>86.0</td>\n",
       "      <td>Valencia St at Clinton Park</td>\n",
       "      <td>356.0</td>\n",
       "      <td>37.769267</td>\n",
       "      <td>-122.426928</td>\n",
       "      <td>37.769024</td>\n",
       "      <td>-122.422275</td>\n",
       "      <td>member</td>\n",
       "      <td>463</td>\n",
       "      <td>Fri</td>\n",
       "    </tr>\n",
       "    <tr>\n",
       "      <th>95027</th>\n",
       "      <td>208A94BBA50FE47C</td>\n",
       "      <td>docked_bike</td>\n",
       "      <td>2020-07-26 19:23:23</td>\n",
       "      <td>2020-07-26 19:32:45</td>\n",
       "      <td>Mission Playground</td>\n",
       "      <td>121.0</td>\n",
       "      <td>8th St at Ringold St</td>\n",
       "      <td>60.0</td>\n",
       "      <td>37.759210</td>\n",
       "      <td>-122.421339</td>\n",
       "      <td>37.774520</td>\n",
       "      <td>-122.409449</td>\n",
       "      <td>member</td>\n",
       "      <td>562</td>\n",
       "      <td>Sun</td>\n",
       "    </tr>\n",
       "    <tr>\n",
       "      <th>152382</th>\n",
       "      <td>D6121C0FB42DE8D6</td>\n",
       "      <td>electric_bike</td>\n",
       "      <td>2020-07-27 18:30:27</td>\n",
       "      <td>2020-07-27 18:40:38</td>\n",
       "      <td>7th Ave at Irving St</td>\n",
       "      <td>457.0</td>\n",
       "      <td>Page St at Scott St</td>\n",
       "      <td>72.0</td>\n",
       "      <td>37.763627</td>\n",
       "      <td>-122.464094</td>\n",
       "      <td>37.772411</td>\n",
       "      <td>-122.435852</td>\n",
       "      <td>member</td>\n",
       "      <td>611</td>\n",
       "      <td>Mon</td>\n",
       "    </tr>\n",
       "    <tr>\n",
       "      <th>100701</th>\n",
       "      <td>8396929BABEDF5C2</td>\n",
       "      <td>docked_bike</td>\n",
       "      <td>2020-07-29 19:46:35</td>\n",
       "      <td>2020-07-29 19:50:04</td>\n",
       "      <td>Balboa Park BART Station</td>\n",
       "      <td>413.0</td>\n",
       "      <td>Delano Ave at Oneida Ave</td>\n",
       "      <td>502.0</td>\n",
       "      <td>37.720554</td>\n",
       "      <td>-122.447723</td>\n",
       "      <td>37.722382</td>\n",
       "      <td>-122.443810</td>\n",
       "      <td>member</td>\n",
       "      <td>209</td>\n",
       "      <td>Wed</td>\n",
       "    </tr>\n",
       "  </tbody>\n",
       "</table>\n",
       "</div>"
      ],
      "text/plain": [
       "                 ride_id  rideable_type          started_at  \\\n",
       "19965   C92CD8EA45973784  electric_bike 2020-07-03 19:53:59   \n",
       "87104   16A1C10DC0E223F7  electric_bike 2020-07-10 18:54:54   \n",
       "95027   208A94BBA50FE47C    docked_bike 2020-07-26 19:23:23   \n",
       "152382  D6121C0FB42DE8D6  electric_bike 2020-07-27 18:30:27   \n",
       "100701  8396929BABEDF5C2    docked_bike 2020-07-29 19:46:35   \n",
       "\n",
       "                  ended_at        start_station_name start_station_id  \\\n",
       "19965  2020-07-03 20:13:18       Howard St at 8th St             61.0   \n",
       "87104  2020-07-10 19:02:37   Market St at Dolores St             86.0   \n",
       "95027  2020-07-26 19:32:45        Mission Playground            121.0   \n",
       "152382 2020-07-27 18:40:38      7th Ave at Irving St            457.0   \n",
       "100701 2020-07-29 19:50:04  Balboa Park BART Station            413.0   \n",
       "\n",
       "                   end_station_name end_station_id  start_lat   start_lng  \\\n",
       "19965          7th Ave at Irving St          457.0  37.776608 -122.411233   \n",
       "87104   Valencia St at Clinton Park          356.0  37.769267 -122.426928   \n",
       "95027          8th St at Ringold St           60.0  37.759210 -122.421339   \n",
       "152382          Page St at Scott St           72.0  37.763627 -122.464094   \n",
       "100701     Delano Ave at Oneida Ave          502.0  37.720554 -122.447723   \n",
       "\n",
       "          end_lat     end_lng member_casual  duration_sec started_day  \n",
       "19965   37.763571 -122.464109        casual          1159         Fri  \n",
       "87104   37.769024 -122.422275        member           463         Fri  \n",
       "95027   37.774520 -122.409449        member           562         Sun  \n",
       "152382  37.772411 -122.435852        member           611         Mon  \n",
       "100701  37.722382 -122.443810        member           209         Wed  "
      ]
     },
     "execution_count": 16,
     "metadata": {},
     "output_type": "execute_result"
    }
   ],
   "source": [
    "# Test\n",
    "dfc.sample(5)"
   ]
  },
  {
   "cell_type": "markdown",
   "metadata": {},
   "source": [
    "### What is the structure of your dataset?\n",
    "\n",
    "There are 83,530 rows (trips) in the dataset with 15 columns (features). Most variables are either numeric or string in nature, but the variables rideable_type, member_casual, and started_day are categorical variables. Each trip is anonymized and includes:  \n",
    "1. Ride ID\n",
    "2. Bike type\n",
    "3. Start Time and Date\n",
    "4. End Time and Date\n",
    "5. Start Station Name\n",
    "6. Start Station ID\n",
    "7. End Station Name\n",
    "8. End Station ID\n",
    "9. Start Station Latitude\n",
    "10. Start Station Longitude\n",
    "11. End Station Latitude\n",
    "12. End Station Longitude\n",
    "13. User Type (Member or Casual)\n",
    "14. Trip Duration (seconds)\n",
    "15. Start Day.\n",
    "\n",
    "### What is/are the main feature(s) of interest in your dataset?\n",
    "\n",
    "I am interested in finding out the features that would affect in increasing the bike trips through observing where the dataset is congested. This will assisst in understanding the market during the pandemic time of COVID-19 to make business decisions. \n",
    "\n",
    "### What features in the dataset do you think will help support your investigation into your feature(s) of interest?\n",
    "\n",
    "I believe user type, bike type, trip duration, started station name, and day of the week will affect the prediction of the number of trips. For instance, studying what are the most started station names or investigating on the busiest day of the week for bike rentals, etc."
   ]
  },
  {
   "cell_type": "markdown",
   "metadata": {},
   "source": [
    "<a id='uni'></a>\n",
    "## Univariate Exploration\n",
    "\n",
    "I'll start by looking at the distribution of the main variables.\n",
    "\n",
    "#### 1. What is the busiest day of the week for bike rentals?"
   ]
  },
  {
   "cell_type": "code",
   "execution_count": 17,
   "metadata": {},
   "outputs": [
    {
     "data": {
      "image/png": "[encoded data removed]",
      "text/plain": [
       "<Figure size 432x288 with 1 Axes>"
      ]
     },
     "metadata": {
      "needs_background": "light"
     },
     "output_type": "display_data"
    }
   ],
   "source": [
    "base_color = sb.color_palette()[9]\n",
    "\n",
    "# create bar chart\n",
    "sb.countplot(data= dfc, x = 'started_day', color = base_color)\n",
    "\n",
    "# set title and labels \n",
    "plt.title('Bike share count during the week')\n",
    "plt.xlabel('Start Day of the week');"
   ]
  },
  {
   "cell_type": "markdown",
   "metadata": {},
   "source": [
    "As shown above, there is no pattern in the dataset; this might be because the students in July are spending their summer vacation. Besides, most of the employees currently are working from home due to COVID-19, which explains the reason why the bike rental rate at the weekends is higher than some of the weekdays."
   ]
  },
  {
   "cell_type": "markdown",
   "metadata": {},
   "source": [
    "#### 2. What are the 10 most common starting point?"
   ]
  },
  {
   "cell_type": "code",
   "execution_count": 18,
   "metadata": {},
   "outputs": [
    {
     "data": {
      "image/png": "[encoded data removed]",
      "text/plain": [
       "<Figure size 432x288 with 1 Axes>"
      ]
     },
     "metadata": {
      "needs_background": "light"
     },
     "output_type": "display_data"
    }
   ],
   "source": [
    "# count the occurrence of each class \n",
    "points = dfc['start_station_name'].value_counts()[:11].index\n",
    "\n",
    "# create bar chart\n",
    "sb.countplot(data=dfc, y='start_station_name', order=points, color=base_color)\n",
    "\n",
    "# set title and labels \n",
    "plt.title('Most common starting point')\n",
    "plt.ylabel('Station Name');"
   ]
  },
  {
   "cell_type": "markdown",
   "metadata": {},
   "source": [
    "#### 3. What is the percentage of each user type?"
   ]
  },
  {
   "cell_type": "code",
   "execution_count": 19,
   "metadata": {},
   "outputs": [
    {
     "data": {
      "image/png": "[encoded data removed]",
      "text/plain": [
       "<Figure size 432x288 with 1 Axes>"
      ]
     },
     "metadata": {},
     "output_type": "display_data"
    }
   ],
   "source": [
    "colors = ['tab:cyan', 'tab:olive']\n",
    "# Plot a pie chart showing the rate of each\n",
    "df['member_casual'].value_counts().plot(kind='pie', explode=(0.15, 0), shadow=True, \n",
    "                                  colors=colors, autopct='%1.1f%%');"
   ]
  },
  {
   "cell_type": "markdown",
   "metadata": {},
   "source": [
    "#### 4. What is the percentage of each bike type?"
   ]
  },
  {
   "cell_type": "code",
   "execution_count": 20,
   "metadata": {},
   "outputs": [
    {
     "data": {
      "image/png": "[encoded data removed]",
      "text/plain": [
       "<Figure size 432x288 with 1 Axes>"
      ]
     },
     "metadata": {},
     "output_type": "display_data"
    }
   ],
   "source": [
    "# Plot a pie chart showing the rate of each\n",
    "df['rideable_type'].value_counts().plot(kind='pie', explode=(0.15, 0), shadow=True, \n",
    "                                  colors=colors, autopct='%1.1f%%');"
   ]
  },
  {
   "cell_type": "markdown",
   "metadata": {},
   "source": [
    "#### 5. How the trip duration time is distributed?"
   ]
  },
  {
   "cell_type": "code",
   "execution_count": 21,
   "metadata": {},
   "outputs": [
    {
     "data": {
      "text/plain": [
       "count    83530.000000\n",
       "mean      1308.885837\n",
       "std       3366.421455\n",
       "min          0.000000\n",
       "50%        797.000000\n",
       "99%       7756.710000\n",
       "max      86399.000000\n",
       "Name: duration_sec, dtype: float64"
      ]
     },
     "execution_count": 21,
     "metadata": {},
     "output_type": "execute_result"
    }
   ],
   "source": [
    "# Find where the 99% of the dataset occurs\n",
    "dfc['duration_sec'].describe(percentiles=[.99])"
   ]
  },
  {
   "cell_type": "code",
   "execution_count": 22,
   "metadata": {},
   "outputs": [
    {
     "data": {
      "image/png": "[encoded data removed]",
      "text/plain": [
       "<Figure size 720x360 with 1 Axes>"
      ]
     },
     "metadata": {
      "needs_background": "light"
     },
     "output_type": "display_data"
    }
   ],
   "source": [
    "bins = np.arange(0, 7757+100, 100)\n",
    "plt.figure(figsize=[10, 5])\n",
    "\n",
    "plt.hist(data=dfc, x='duration_sec', bins=bins, color=base_color);\n",
    "plt.title('Histogram of Trip Duration')\n",
    "plt.xlabel('Duration (sec)');\n",
    "plt.ylabel('Frequency');"
   ]
  },
  {
   "cell_type": "markdown",
   "metadata": {},
   "source": [
    "The histogram of the trip duration has a positively skewed distribution, which mean that most of the data falls to the right. The peak of the histogram, where most of the trips occurs, is held in the interval of 500-700 seconds, i.e., most of the trips took 8-13 minutes long."
   ]
  },
  {
   "cell_type": "code",
   "execution_count": 23,
   "metadata": {},
   "outputs": [
    {
     "name": "stdout",
     "output_type": "stream",
     "text": [
      "<class 'pandas.core.frame.DataFrame'>\n",
      "Int64Index: 82695 entries, 1 to 154966\n",
      "Data columns (total 15 columns):\n",
      " #   Column              Non-Null Count  Dtype         \n",
      "---  ------              --------------  -----         \n",
      " 0   ride_id             82695 non-null  object        \n",
      " 1   rideable_type       82695 non-null  category      \n",
      " 2   started_at          82695 non-null  datetime64[ns]\n",
      " 3   ended_at            82695 non-null  datetime64[ns]\n",
      " 4   start_station_name  82695 non-null  object        \n",
      " 5   start_station_id    82695 non-null  object        \n",
      " 6   end_station_name    82695 non-null  object        \n",
      " 7   end_station_id      82695 non-null  object        \n",
      " 8   start_lat           82695 non-null  float64       \n",
      " 9   start_lng           82695 non-null  float64       \n",
      " 10  end_lat             82695 non-null  float64       \n",
      " 11  end_lng             82695 non-null  float64       \n",
      " 12  member_casual       82695 non-null  category      \n",
      " 13  duration_sec        82695 non-null  int64         \n",
      " 14  started_day         82695 non-null  category      \n",
      "dtypes: category(3), datetime64[ns](2), float64(4), int64(1), object(5)\n",
      "memory usage: 8.4+ MB\n"
     ]
    }
   ],
   "source": [
    "# Filter out the outliers of trip records\n",
    "dfc = dfc.query('duration_sec <= 7757')\n",
    "dfc.info()"
   ]
  },
  {
   "cell_type": "markdown",
   "metadata": {},
   "source": [
    "### Discuss the distribution(s) of your variable(s) of interest. Were there any unusual points? Did you need to perform any transformations?\n",
    "\n",
    "There was no clear pattern in the number of bike rental per week. I think this issue is because of the time of the year (vacation season) and the pandemic of COVID-19 2020. However, there is a tendency to rent a bike on the weekends. \n",
    "\n",
    "\n",
    "### Of the features you investigated, were there any unusual distributions? Did you perform any operations on the data to tidy, adjust, or change the form of the data? If so, why did you do this?\n",
    "\n",
    "I calculate the duration time from subtracting the start time from the end time. This variable had entries with a very long time in which the trip took about 24 hours. To visualize the data in a better way, I filtered out these outliers to focus on where the majority of the trip records occur."
   ]
  },
  {
   "cell_type": "markdown",
   "metadata": {},
   "source": [
    "<a id='bi'></a>\n",
    "## Bivariate Exploration\n",
    "\n",
    "#### 1. What is the user type distribution among the weekly bike rentals?"
   ]
  },
  {
   "cell_type": "code",
   "execution_count": 24,
   "metadata": {
    "scrolled": true
   },
   "outputs": [
    {
     "data": {
      "image/png": "[encoded data removed]",
      "text/plain": [
       "<Figure size 432x288 with 1 Axes>"
      ]
     },
     "metadata": {
      "needs_background": "light"
     },
     "output_type": "display_data"
    }
   ],
   "source": [
    "sb.countplot(data = dfc, x = 'started_day', hue = 'member_casual', palette=\"YlGnBu\")\n",
    "plt.title('Bike share count during the week')\n",
    "plt.xlabel('Day of the week');"
   ]
  },
  {
   "cell_type": "markdown",
   "metadata": {},
   "source": [
    "As illustrated above, members slightly more inclined to rent a bike on weekdays in July 2020 than casual users. However, on weekends, casual users tend to ride the Bay Wheels bike more."
   ]
  },
  {
   "cell_type": "markdown",
   "metadata": {},
   "source": [
    "#### 2. What type of bike is the most used among users?"
   ]
  },
  {
   "cell_type": "code",
   "execution_count": 25,
   "metadata": {},
   "outputs": [
    {
     "data": {
      "image/png": "[encoded data removed]",
      "text/plain": [
       "<Figure size 432x288 with 2 Axes>"
      ]
     },
     "metadata": {
      "needs_background": "light"
     },
     "output_type": "display_data"
    }
   ],
   "source": [
    "ct_counts = dfc.groupby(['rideable_type', 'member_casual']).size()\n",
    "ct_counts = ct_counts.reset_index(name = 'count')\n",
    "ct_counts = ct_counts.pivot(index = 'rideable_type', columns = 'member_casual', values = 'count')\n",
    "sb.heatmap(ct_counts, annot = True, fmt = 'd' );"
   ]
  },
  {
   "cell_type": "markdown",
   "metadata": {},
   "source": [
    "After filtering the outliers of the duration column, it turns out that regardless of whether the rider is a member or a casual user, the docked bike was utilized more than the electric bike."
   ]
  },
  {
   "cell_type": "markdown",
   "metadata": {},
   "source": [
    "#### 3. How the duration time affects on each bike type/user type? "
   ]
  },
  {
   "cell_type": "code",
   "execution_count": 26,
   "metadata": {},
   "outputs": [
    {
     "data": {
      "image/png": "[encoded data removed]",
      "text/plain": [
       "<Figure size 864x360 with 2 Axes>"
      ]
     },
     "metadata": {
      "needs_background": "light"
     },
     "output_type": "display_data"
    }
   ],
   "source": [
    "plt.figure(figsize = [12, 5])\n",
    "plt.subplot(1, 2, 1)\n",
    "sb.boxplot(data=dfc, x='rideable_type', y='duration_sec', palette='YlGnBu');\n",
    "plt.xlabel('Bike Type');\n",
    "plt.ylabel('Duration (sec)');\n",
    "\n",
    "plt.subplot(1, 2, 2)\n",
    "sb.violinplot(data=dfc, x='member_casual', y='duration_sec', inner='quartile', palette='YlGnBu');\n",
    "plt.xlabel('User Type');\n",
    "plt.ylabel('Duration (sec)');"
   ]
  },
  {
   "cell_type": "markdown",
   "metadata": {},
   "source": [
    "The electric bike has roughly less duration time trips than docked bike. Furthermore, members spend less time riding the Bay Wheels bike than casual users."
   ]
  },
  {
   "cell_type": "markdown",
   "metadata": {},
   "source": [
    "#### 5. What is the most popular starting point for members and casual users?"
   ]
  },
  {
   "cell_type": "code",
   "execution_count": 27,
   "metadata": {},
   "outputs": [
    {
     "data": {
      "image/png": "[encoded data removed]",
      "text/plain": [
       "<Figure size 576x432 with 1 Axes>"
      ]
     },
     "metadata": {
      "needs_background": "light"
     },
     "output_type": "display_data"
    }
   ],
   "source": [
    "plt.figure(figsize = [8,6])\n",
    "points = dfc['start_station_name'].value_counts()[:11].index\n",
    "\n",
    "sb.countplot(data=dfc, y='start_station_name', hue='member_casual', order=points, palette=\"Set1\")\n",
    "plt.title('Bike share count during the week')\n",
    "plt.ylabel('Day of the week');"
   ]
  },
  {
   "cell_type": "markdown",
   "metadata": {},
   "source": [
    "Members mostly start their ride at *4th St at 16th St* or at *Powell St BART Station*. However, casual users most likely start their trip at *Market St at 10th St* (the center of the city)."
   ]
  },
  {
   "cell_type": "markdown",
   "metadata": {},
   "source": [
    "### Talk about some of the relationships you observed in this part of the investigation. How did the feature(s) of interest vary with other features in the dataset?\n",
    "\n",
    "Members slightly tend to rent a bike during the weekdays of July 2020 than the casual users, and vice versa. The docked bike was utilized more than the electric bike for both types of users. The electric bike is faster than the docked bike. Members ride short trips and vice versa.\n",
    "\n",
    "### Did you observe any interesting relationships between the other features (not the main feature(s) of interest)?\n",
    "\n",
    "Casual users ride the bike more at the weekends, and they spend a longer time to reach their destination."
   ]
  },
  {
   "cell_type": "markdown",
   "metadata": {},
   "source": [
    "<a id='multi'></a>\n",
    "## Multivariate Exploration\n",
    "\n",
    "#### 1. How does the average ride time differ between members and casual users on weekdays?"
   ]
  },
  {
   "cell_type": "code",
   "execution_count": 28,
   "metadata": {},
   "outputs": [
    {
     "data": {
      "image/png": "[encoded data removed]",
      "text/plain": [
       "<Figure size 576x432 with 1 Axes>"
      ]
     },
     "metadata": {
      "needs_background": "light"
     },
     "output_type": "display_data"
    }
   ],
   "source": [
    "plt.figure(figsize = [8,6])\n",
    "sb.pointplot(data=dfc, x='started_day', y='duration_sec', hue='member_casual', \n",
    "             palette='YlGnBu', linestyles = '');\n",
    "plt.xlabel('Day of the Week');\n",
    "plt.ylabel('Mean Trip Duration (sec)');\n",
    "dfc['started_hour']= dfc.started_at.dt.hour"
   ]
  },
  {
   "cell_type": "markdown",
   "metadata": {},
   "source": [
    "As shown in the foregoing graph, the average trip duration of members is less than that for casual users on each day of the week. Nevertheless, the average is higher on the weekends for both users. This shows how it become demandable to rent a bike at the weekends, especially for casual riders."
   ]
  },
  {
   "cell_type": "markdown",
   "metadata": {},
   "source": [
    "#### 2. What is the hourly usage rate for each bike type per week?"
   ]
  },
  {
   "cell_type": "code",
   "execution_count": 29,
   "metadata": {},
   "outputs": [
    {
     "data": {
      "image/png": "[encoded data removed]",
      "text/plain": [
       "<Figure size 1080x576 with 4 Axes>"
      ]
     },
     "metadata": {
      "needs_background": "light"
     },
     "output_type": "display_data"
    }
   ],
   "source": [
    "plt.figure(figsize = [15,8])\n",
    "plt.suptitle('Hourly Usage Rate for Each Bike Type per Week')\n",
    "\n",
    "plt.subplot(2,1,1)\n",
    "docked = dfc.query('rideable_type == \"docked_bike\"')\n",
    "dt_counts = docked.groupby(['started_day', 'started_hour']).size()\n",
    "dt_counts = dt_counts.reset_index(name='count')\n",
    "dt_counts = dt_counts.pivot(index='started_day', columns='started_hour', values='count')\n",
    "sb.heatmap(dt_counts, cmap='GnBu');\n",
    "plt.title('docked_bike', loc='right');\n",
    "plt.xlabel('Start Hour');\n",
    "plt.ylabel('Day of the Week');\n",
    "\n",
    "plt.subplot(2,1,2)\n",
    "electric = dfc.query('rideable_type == \"electric_bike\"')\n",
    "et_counts = electric.groupby(['started_day', 'started_hour']).size()\n",
    "et_counts = et_counts.reset_index(name='count')\n",
    "et_counts = et_counts.pivot(index='started_day', columns='started_hour', values='count')\n",
    "sb.heatmap(et_counts, cmap='OrRd');\n",
    "plt.title('electric_bike', loc='right');\n",
    "plt.xlabel('Start Hour');\n",
    "plt.ylabel('Day of the Week');"
   ]
  },
  {
   "cell_type": "markdown",
   "metadata": {},
   "source": [
    "The demand for a docked bike is concentrated on the weekends, especially on Saturday at 2-3 PM. However, riders tend to acquire an electric bike on the weekdays around 5-6 PM. This means that in business days, people are likely to use the electric bike so they can finish their work in a faster way. Nevertheless, they utilize the docked bike in their spare days.\n",
    "\n",
    "### Talk about some of the relationships you observed in this part of the investigation. Were there features that strengthened each other in terms of looking at your feature(s) of interest?\n",
    "\n",
    "In this part of the investigation, I looked in depth at the factors affecting the Bay Wheels market during July 2020. In which, I studied the riders' way to use the bike in terms of the trip duration on the corresponding day of the week. Furthermore, I investigated the hourly usage rate for each bike type per week.\n",
    "\n",
    "These studies on the abovementioned features reinforced previous investigations through visualizing and analyzing the multivariate graphs.\n",
    "\n",
    "### Were there any interesting or surprising interactions between features?\n",
    "\n",
    "It is quite interesting how people still use the docked bike in their spare time. This indicates how people in San Francisco care about their health and sport even in this pandemic era."
   ]
  }
 ],
 "metadata": {
  "kernelspec": {
   "display_name": "Python 3",
   "language": "python",
   "name": "python3"
  },
  "language_info": {
   "codemirror_mode": {
    "name": "ipython",
    "version": 3
   },
   "file_extension": ".py",
   "mimetype": "text/x-python",
   "name": "python",
   "nbconvert_exporter": "python",
   "pygments_lexer": "ipython3",
   "version": "3.7.6"
  }
 },
 "nbformat": 4,
 "nbformat_minor": 2
}
